{
 "cells": [
  {
   "cell_type": "markdown",
   "metadata": {},
   "source": [
    "# All Paths Graph with Depth First Search"
   ]
  },
  {
   "cell_type": "markdown",
   "metadata": {},
   "source": [
    "![title](image/All_Paths_Graph_480_360.png)"
   ]
  },
  {
   "cell_type": "markdown",
   "metadata": {},
   "source": [
    " ### Node Class"
   ]
  },
  {
   "cell_type": "code",
   "execution_count": 112,
   "metadata": {},
   "outputs": [],
   "source": [
    "class Node(object):\n",
    "    def __init__(self, value):\n",
    "        self.value = value\n",
    "        self.adjacencyList = list() \n",
    "        self.visited = False"
   ]
  },
  {
   "cell_type": "markdown",
   "metadata": {},
   "source": [
    "#### Nodes & Adjacency list"
   ]
  },
  {
   "cell_type": "code",
   "execution_count": 113,
   "metadata": {},
   "outputs": [],
   "source": [
    "node_A = Node(\"A\")\n",
    "node_B = Node(\"B\")\n",
    "node_C = Node(\"C\")\n",
    "node_D = Node(\"D\")\n",
    "node_E = Node(\"E\")\n",
    "node_F = Node(\"F\")\n",
    "node_G = Node(\"G\")\n",
    "node_H = Node(\"H\")\n",
    "node_I = Node(\"I\")\n",
    "node_J = Node(\"J\")\n",
    "node_K = Node(\"K\")"
   ]
  },
  {
   "cell_type": "code",
   "execution_count": 114,
   "metadata": {},
   "outputs": [],
   "source": [
    "vertex_list = [node_A, node_B, node_C, node_D, node_E, node_F, node_G, node_H, node_I, node_J, node_K]"
   ]
  },
  {
   "cell_type": "code",
   "execution_count": 115,
   "metadata": {},
   "outputs": [],
   "source": [
    "node_A.adjacencyList = [node_B, node_C]\n",
    "node_B.adjacencyList = [node_D]\n",
    "node_C.adjacencyList = [node_D]\n",
    "node_D.adjacencyList = [node_E]\n",
    "node_E.adjacencyList = [node_H]\n",
    "node_F.adjacencyList = [node_B, node_G, node_K]\n",
    "node_G.adjacencyList = []\n",
    "node_H.adjacencyList = [node_I]\n",
    "node_I.adjacencyList = [node_G]\n",
    "node_J.adjacencyList = [node_D]\n",
    "node_K.adjacencyList = [node_J]"
   ]
  },
  {
   "cell_type": "markdown",
   "metadata": {},
   "source": [
    "### Depth First Search"
   ]
  },
  {
   "cell_type": "markdown",
   "metadata": {},
   "source": [
    "- recursively explore graph, backtracking as necessary."
   ]
  },
  {
   "cell_type": "code",
   "execution_count": 116,
   "metadata": {},
   "outputs": [],
   "source": [
    "# Helper function : Initialise node.visited to False\n",
    "def init_visited(vertex_list):\n",
    "    for n in vertex_list:\n",
    "        n.visited = False"
   ]
  },
  {
   "cell_type": "code",
   "execution_count": 117,
   "metadata": {},
   "outputs": [],
   "source": [
    "# Explore each possible starting node in the graph \n",
    "def visit_all_node(vertex_list):\n",
    "    for node in vertex_list:\n",
    "        # Init visited\n",
    "        init_visited(vertex_list)\n",
    "        # Depth First Search\n",
    "        print(\"Exploring vertex {0}\".format(node.value))\n",
    "        print(depthFirstSearch(node, path=[]))\n"
   ]
  },
  {
   "cell_type": "code",
   "execution_count": 118,
   "metadata": {},
   "outputs": [],
   "source": [
    "def depthFirstSearch(node, path):\n",
    "    node.visited = True\n",
    "    path.append(node.value) \n",
    "    for n in node.adjacencyList:\n",
    "        if n.visited == False:\n",
    "            DFS_recursive(n, path)\n",
    "    return path"
   ]
  },
  {
   "cell_type": "code",
   "execution_count": 119,
   "metadata": {},
   "outputs": [
    {
     "name": "stdout",
     "output_type": "stream",
     "text": [
      "Exploring vertex A\n",
      "['A', 'B', 'D', 'E', 'H', 'I', 'G', 'C']\n",
      "Exploring vertex B\n",
      "['B', 'D', 'E', 'H', 'I', 'G']\n",
      "Exploring vertex C\n",
      "['C', 'D', 'E', 'H', 'I', 'G']\n",
      "Exploring vertex D\n",
      "['D', 'E', 'H', 'I', 'G']\n",
      "Exploring vertex E\n",
      "['E', 'H', 'I', 'G']\n",
      "Exploring vertex F\n",
      "['F', 'B', 'D', 'E', 'H', 'I', 'G', 'K', 'J']\n",
      "Exploring vertex G\n",
      "['G']\n",
      "Exploring vertex H\n",
      "['H', 'I', 'G']\n",
      "Exploring vertex I\n",
      "['I', 'G']\n",
      "Exploring vertex J\n",
      "['J', 'D', 'E', 'H', 'I', 'G']\n",
      "Exploring vertex K\n",
      "['K', 'J', 'D', 'E', 'H', 'I', 'G']\n"
     ]
    }
   ],
   "source": [
    "visit_all_node(vertex_list)"
   ]
  }
 ],
 "metadata": {
  "kernelspec": {
   "display_name": "Python 3",
   "language": "python",
   "name": "python3"
  },
  "language_info": {
   "codemirror_mode": {
    "name": "ipython",
    "version": 3
   },
   "file_extension": ".py",
   "mimetype": "text/x-python",
   "name": "python",
   "nbconvert_exporter": "python",
   "pygments_lexer": "ipython3",
   "version": "3.7.0"
  }
 },
 "nbformat": 4,
 "nbformat_minor": 2
}
