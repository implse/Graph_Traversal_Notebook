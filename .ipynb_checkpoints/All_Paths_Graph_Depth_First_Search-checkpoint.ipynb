{
 "cells": [
  {
   "cell_type": "markdown",
   "metadata": {},
   "source": [
    "# All Paths Graph with Depth First Search"
   ]
  },
  {
   "cell_type": "markdown",
   "metadata": {},
   "source": [
    "![title](images/All_Paths_Graph_480_360.png)"
   ]
  },
  {
   "cell_type": "markdown",
   "metadata": {},
   "source": [
    " ### Vertex Class"
   ]
  },
  {
   "cell_type": "code",
   "execution_count": 41,
   "metadata": {
    "collapsed": true
   },
   "outputs": [],
   "source": [
    "class Vertex(object):\n",
    "    def __init__(self, value):\n",
    "        self.value = value\n",
    "        self.adjacencyList = list() \n",
    "        self.visited = False"
   ]
  },
  {
   "cell_type": "markdown",
   "metadata": {},
   "source": [
    "#### Nodes & Adjacency list"
   ]
  },
  {
   "cell_type": "code",
   "execution_count": 42,
   "metadata": {
    "collapsed": true
   },
   "outputs": [],
   "source": [
    "vertex_A = Vertex(\"A\")\n",
    "vertex_B = Vertex(\"B\")\n",
    "vertex_C = Vertex(\"C\")\n",
    "vertex_D = Vertex(\"D\")\n",
    "vertex_E = Vertex(\"E\")\n",
    "vertex_F = Vertex(\"F\")\n",
    "vertex_G = Vertex(\"G\")\n",
    "vertex_H = Vertex(\"H\")\n",
    "vertex_I = Vertex(\"I\")\n",
    "vertex_J = Vertex(\"J\")\n",
    "vertex_K = Vertex(\"K\")"
   ]
  },
  {
   "cell_type": "code",
   "execution_count": 43,
   "metadata": {
    "collapsed": true
   },
   "outputs": [],
   "source": [
    "vertex_list = [vertex_A, vertex_B, vertex_C, vertex_D, vertex_E, vertex_F, vertex_G, vertex_H, vertex_I, vertex_J, vertex_K]"
   ]
  },
  {
   "cell_type": "code",
   "execution_count": 44,
   "metadata": {
    "collapsed": true
   },
   "outputs": [],
   "source": [
    "vertex_A.adjacencyList = [vertex_B, vertex_C]\n",
    "vertex_B.adjacencyList = [vertex_D]\n",
    "vertex_C.adjacencyList = [vertex_D]\n",
    "vertex_D.adjacencyList = [vertex_E]\n",
    "vertex_E.adjacencyList = [vertex_H]\n",
    "vertex_F.adjacencyList = [vertex_B, vertex_G, vertex_K]\n",
    "vertex_G.adjacencyList = []\n",
    "vertex_H.adjacencyList = [vertex_I]\n",
    "vertex_I.adjacencyList = [vertex_G]\n",
    "vertex_J.adjacencyList = [vertex_D]\n",
    "vertex_K.adjacencyList = [vertex_J]"
   ]
  },
  {
   "cell_type": "markdown",
   "metadata": {},
   "source": [
    "### Depth First Search"
   ]
  },
  {
   "cell_type": "markdown",
   "metadata": {},
   "source": [
    "recursively explore graph, backtracking as necessary."
   ]
  },
  {
   "cell_type": "code",
   "execution_count": 45,
   "metadata": {
    "collapsed": true
   },
   "outputs": [],
   "source": [
    "# Helper function : Initialise vertex.visited to False\n",
    "def init_visited(vertex_list):\n",
    "    for v in vertex_list:\n",
    "        v.visited = False"
   ]
  },
  {
   "cell_type": "code",
   "execution_count": 46,
   "metadata": {
    "collapsed": true
   },
   "outputs": [],
   "source": [
    "# Explore each possible starting node in the graph \n",
    "def visit_all_vertex(vertex_list):\n",
    "    for v in vertex_list:\n",
    "        # Init all vertex visited to False\n",
    "        init_visited(vertex_list)\n",
    "        # Depth First Search\n",
    "        print(\"Exploring vertex {0}\".format(v.value))\n",
    "        print(depthFirstSearch(v, path=[]))\n"
   ]
  },
  {
   "cell_type": "code",
   "execution_count": 47,
   "metadata": {
    "collapsed": true
   },
   "outputs": [],
   "source": [
    "def depthFirstSearch(vertex, path):\n",
    "    vertex.visited = True\n",
    "    path.append(vertex.value) \n",
    "    for v in vertex.adjacencyList:\n",
    "        if v.visited == False:\n",
    "            depthFirstSearch(v, path)\n",
    "    return path"
   ]
  },
  {
   "cell_type": "code",
   "execution_count": 48,
   "metadata": {
    "collapsed": false
   },
   "outputs": [
    {
     "name": "stdout",
     "output_type": "stream",
     "text": [
      "Exploring vertex A\n",
      "['A', 'B', 'D', 'E', 'H', 'I', 'G', 'C']\n",
      "Exploring vertex B\n",
      "['B', 'D', 'E', 'H', 'I', 'G']\n",
      "Exploring vertex C\n",
      "['C', 'D', 'E', 'H', 'I', 'G']\n",
      "Exploring vertex D\n",
      "['D', 'E', 'H', 'I', 'G']\n",
      "Exploring vertex E\n",
      "['E', 'H', 'I', 'G']\n",
      "Exploring vertex F\n",
      "['F', 'B', 'D', 'E', 'H', 'I', 'G', 'K', 'J']\n",
      "Exploring vertex G\n",
      "['G']\n",
      "Exploring vertex H\n",
      "['H', 'I', 'G']\n",
      "Exploring vertex I\n",
      "['I', 'G']\n",
      "Exploring vertex J\n",
      "['J', 'D', 'E', 'H', 'I', 'G']\n",
      "Exploring vertex K\n",
      "['K', 'J', 'D', 'E', 'H', 'I', 'G']\n"
     ]
    }
   ],
   "source": [
    "visit_all_vertex(vertex_list)"
   ]
  }
 ],
 "metadata": {
  "kernelspec": {
   "display_name": "Python 3",
   "language": "python",
   "name": "python3"
  },
  "language_info": {
   "codemirror_mode": {
    "name": "ipython",
    "version": 3
   },
   "file_extension": ".py",
   "mimetype": "text/x-python",
   "name": "python",
   "nbconvert_exporter": "python",
   "pygments_lexer": "ipython3",
   "version": "3.6.0"
  }
 },
 "nbformat": 4,
 "nbformat_minor": 2
}
