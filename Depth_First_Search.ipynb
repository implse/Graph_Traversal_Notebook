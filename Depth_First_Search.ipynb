{
 "cells": [
  {
   "cell_type": "markdown",
   "metadata": {},
   "source": [
    "# Graph Traversal"
   ]
  },
  {
   "cell_type": "markdown",
   "metadata": {},
   "source": [
    "The process of searching through or traversing a `graph` data structure involves visiting each `vertex` (`node`) in a `graph`. The order in which `vertices` are visited is how we can classify `graph` traversals methods."
   ]
  },
  {
   "cell_type": "markdown",
   "metadata": {},
   "source": [
    "![title](images/Graph_480_360.png)"
   ]
  },
  {
   "cell_type": "markdown",
   "metadata": {},
   "source": [
    "## Depth First Search"
   ]
  },
  {
   "cell_type": "markdown",
   "metadata": {},
   "source": [
    "Traverse deep into a graph by visiting children `nodes` before visiting sibling neighbor `nodes`.\n",
    "\n",
    "- Uses a `stack`"
   ]
  },
  {
   "cell_type": "markdown",
   "metadata": {},
   "source": [
    "In `DFS`, we can determine wether two `nodes` `x` and `y` have a path between them by looking at the children of the starting `node` and recusively determining if a path exists."
   ]
  },
  {
   "cell_type": "markdown",
   "metadata": {},
   "source": [
    "`DFS` tells us if  a path exists."
   ]
  },
  {
   "cell_type": "markdown",
   "metadata": {},
   "source": [
    "`DFS` algorithm sticks with one path, following that path down a `graph` structure until it ends."
   ]
  },
  {
   "cell_type": "markdown",
   "metadata": {},
   "source": [
    "#### Vertex Class"
   ]
  },
  {
   "cell_type": "code",
   "execution_count": 29,
   "metadata": {
    "collapsed": true
   },
   "outputs": [],
   "source": [
    "class Vertex(object):\n",
    "    def __init__(self, value):\n",
    "        self.value = value\n",
    "        self.adjacencyList = list() \n",
    "        self.visited = False"
   ]
  },
  {
   "cell_type": "markdown",
   "metadata": {},
   "source": [
    "#### Vertex & Adjacency list"
   ]
  },
  {
   "cell_type": "code",
   "execution_count": 30,
   "metadata": {
    "collapsed": true
   },
   "outputs": [],
   "source": [
    "vertex_A = Vertex(\"A\")\n",
    "vertex_B = Vertex(\"B\")\n",
    "vertex_C = Vertex(\"C\")\n",
    "vertex_D = Vertex(\"D\")\n",
    "vertex_E = Vertex(\"E\")\n",
    "vertex_F = Vertex(\"F\")\n",
    "vertex_G = Vertex(\"G\")\n",
    "vertex_H = Vertex(\"H\")\n",
    "vertex_I = Vertex(\"I\")\n",
    "\n",
    "vertex_A.adjacencyList = [vertex_B, vertex_C]\n",
    "vertex_B.adjacencyList = [vertex_A, vertex_D, vertex_F]\n",
    "vertex_C.adjacencyList = [vertex_A, vertex_D]\n",
    "vertex_D.adjacencyList = [vertex_B, vertex_C, vertex_E]\n",
    "vertex_E.adjacencyList = [vertex_D, vertex_H]\n",
    "vertex_F.adjacencyList = [vertex_B, vertex_G]\n",
    "vertex_G.adjacencyList = [vertex_F, vertex_I]\n",
    "vertex_H.adjacencyList = [vertex_E, vertex_I]\n",
    "vertex_I.adjacencyList = [vertex_G, vertex_H]"
   ]
  },
  {
   "cell_type": "markdown",
   "metadata": {},
   "source": [
    "### Depth First Search Recursive"
   ]
  },
  {
   "cell_type": "code",
   "execution_count": 31,
   "metadata": {
    "collapsed": true
   },
   "outputs": [],
   "source": [
    "def DFS_recursive(vertex):\n",
    "    vertex.visited = True\n",
    "    print(vertex.value)\n",
    "    for v in vertex.adjacencyList:\n",
    "        if v.visited == False:\n",
    "            DFS_recursive(v)            "
   ]
  },
  {
   "cell_type": "code",
   "execution_count": 32,
   "metadata": {},
   "outputs": [
    {
     "name": "stdout",
     "output_type": "stream",
     "text": [
      "F\n",
      "B\n",
      "A\n",
      "C\n",
      "D\n",
      "E\n",
      "H\n",
      "I\n",
      "G\n"
     ]
    }
   ],
   "source": [
    "DFS_recursive(vertex_F)"
   ]
  },
  {
   "cell_type": "markdown",
   "metadata": {},
   "source": [
    "### Depth First Search Iterative"
   ]
  },
  {
   "cell_type": "code",
   "execution_count": 33,
   "metadata": {
    "collapsed": true
   },
   "outputs": [],
   "source": [
    "def DFS_iterative(vertex):\n",
    "    stack = list()\n",
    "    stack.append(vertex)\n",
    "    vertex.visited = True\n",
    "\n",
    "    while len(stack) > 0:\n",
    "        s = stack.pop()\n",
    "        print(s.value)\n",
    "        for v in s.adjacencyList:\n",
    "            if v.visited == False:\n",
    "                stack.append(v)\n",
    "                v.visited = True"
   ]
  },
  {
   "cell_type": "markdown",
   "metadata": {},
   "source": [
    "#### Vertex & Adjacency list"
   ]
  },
  {
   "cell_type": "code",
   "execution_count": 34,
   "metadata": {
    "collapsed": true
   },
   "outputs": [],
   "source": [
    "vertex_A = Vertex(\"A\")\n",
    "vertex_B = Vertex(\"B\")\n",
    "vertex_C = Vertex(\"C\")\n",
    "vertex_D = Vertex(\"D\")\n",
    "vertex_E = Vertex(\"E\")\n",
    "vertex_F = Vertex(\"F\")\n",
    "vertex_G = Vertex(\"G\")\n",
    "vertex_H = Vertex(\"H\")\n",
    "vertex_I = Vertex(\"I\")\n",
    "\n",
    "vertex_A.adjacencyList = [vertex_B, vertex_C]\n",
    "vertex_B.adjacencyList = [vertex_A, vertex_D, vertex_F]\n",
    "vertex_C.adjacencyList = [vertex_A, vertex_D]\n",
    "vertex_D.adjacencyList = [vertex_B, vertex_C, vertex_E]\n",
    "vertex_E.adjacencyList = [vertex_D, vertex_H]\n",
    "vertex_F.adjacencyList = [vertex_B, vertex_G]\n",
    "vertex_G.adjacencyList = [vertex_F, vertex_I]\n",
    "vertex_H.adjacencyList = [vertex_E, vertex_I]\n",
    "vertex_I.adjacencyList = [vertex_G, vertex_H]"
   ]
  },
  {
   "cell_type": "code",
   "execution_count": 35,
   "metadata": {},
   "outputs": [
    {
     "name": "stdout",
     "output_type": "stream",
     "text": [
      "F\n",
      "G\n",
      "I\n",
      "H\n",
      "E\n",
      "D\n",
      "C\n",
      "A\n",
      "B\n"
     ]
    }
   ],
   "source": [
    "DFS_iterative(vertex_F)"
   ]
  },
  {
   "cell_type": "markdown",
   "metadata": {},
   "source": [
    "### Time Complexity"
   ]
  },
  {
   "cell_type": "markdown",
   "metadata": {},
   "source": [
    "`DFS` Time Complexity: `O(V + E)`"
   ]
  },
  {
   "cell_type": "markdown",
   "metadata": {},
   "source": [
    "`DFS` is great in determining whether a path exists between two `vertex`, and doesn’t necessarily require a lot memory, since the entire `graph` doesn’t need to be initialized or instantiated in order to traverse through it. However, `DFS` isn’t helpful in finding a shortest path between two `vertex`."
   ]
  }
 ],
 "metadata": {
  "kernelspec": {
   "display_name": "Python 3",
   "language": "python",
   "name": "python3"
  },
  "language_info": {
   "codemirror_mode": {
    "name": "ipython",
    "version": 3
   },
   "file_extension": ".py",
   "mimetype": "text/x-python",
   "name": "python",
   "nbconvert_exporter": "python",
   "pygments_lexer": "ipython3",
   "version": "3.7.3"
  }
 },
 "nbformat": 4,
 "nbformat_minor": 2
}
