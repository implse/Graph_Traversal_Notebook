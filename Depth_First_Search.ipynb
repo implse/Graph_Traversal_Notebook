{
 "cells": [
  {
   "cell_type": "markdown",
   "metadata": {},
   "source": [
    "# Graph Traversal"
   ]
  },
  {
   "cell_type": "markdown",
   "metadata": {},
   "source": [
    "The process of searching through or traversing a graph data structure involves visiting each vertex / node in a graph. The order in which vertices are visited is how we can classify graph traversals methods."
   ]
  },
  {
   "cell_type": "code",
   "execution_count": 9,
   "metadata": {},
   "outputs": [
    {
     "data": {
      "image/png": "[encoded data removed]",
      "text/plain": [
       "<IPython.core.display.Image object>"
      ]
     },
     "execution_count": 9,
     "metadata": {},
     "output_type": "execute_result"
    }
   ],
   "source": [
    "from IPython.display import Image\n",
    "graph = Image('Graph_480_360.png')\n",
    "graph"
   ]
  },
  {
   "cell_type": "markdown",
   "metadata": {},
   "source": [
    "## Depth First Search"
   ]
  },
  {
   "cell_type": "markdown",
   "metadata": {},
   "source": [
    "Traverse deep into a graph by visiting children nodes before visiting sibling neighbor ndoes.\n",
    "\n",
    "- Uses a stack"
   ]
  },
  {
   "cell_type": "markdown",
   "metadata": {},
   "source": [
    "In DFS, we can determine wether two nodes x and y have a path between them by looking at the children of the starting node and recusively determining if a path exists."
   ]
  },
  {
   "cell_type": "markdown",
   "metadata": {},
   "source": [
    "DFS tells us if  a path exists."
   ]
  },
  {
   "cell_type": "markdown",
   "metadata": {},
   "source": [
    "DFS algorithm sticks with one path, following that path down a graph structure until it ends."
   ]
  },
  {
   "cell_type": "markdown",
   "metadata": {},
   "source": [
    "### Implementation"
   ]
  },
  {
   "cell_type": "markdown",
   "metadata": {},
   "source": [
    "#### Node Class"
   ]
  },
  {
   "cell_type": "code",
   "execution_count": 10,
   "metadata": {},
   "outputs": [],
   "source": [
    "class Node(object):\n",
    "    def __init__(self, value):\n",
    "        self.value = value\n",
    "        self.adjacencyList = list() \n",
    "        self.visited = False"
   ]
  },
  {
   "cell_type": "markdown",
   "metadata": {},
   "source": [
    "### Nodes & Adjacency list"
   ]
  },
  {
   "cell_type": "code",
   "execution_count": 11,
   "metadata": {},
   "outputs": [],
   "source": [
    "node_A = Node(\"A\")\n",
    "node_B = Node(\"B\")\n",
    "node_C = Node(\"C\")\n",
    "node_D = Node(\"D\")\n",
    "node_E = Node(\"E\")\n",
    "node_F = Node(\"F\")\n",
    "node_G = Node(\"G\")\n",
    "node_H = Node(\"H\")\n",
    "node_I = Node(\"I\")\n",
    "\n",
    "node_A.adjacencyList = [node_B, node_C]\n",
    "node_B.adjacencyList = [node_A, node_D, node_F]\n",
    "node_C.adjacencyList = [node_A, node_D]\n",
    "node_D.adjacencyList = [node_B, node_C, node_E]\n",
    "node_E.adjacencyList = [node_D, node_H]\n",
    "node_F.adjacencyList = [node_B, node_G]\n",
    "node_G.adjacencyList = [node_F, node_I]\n",
    "node_H.adjacencyList = [node_E, node_I]\n",
    "node_I.adjacencyList = [node_G, node_H]"
   ]
  },
  {
   "cell_type": "markdown",
   "metadata": {},
   "source": [
    "#### Recursive DFS"
   ]
  },
  {
   "cell_type": "code",
   "execution_count": 12,
   "metadata": {},
   "outputs": [],
   "source": [
    "def DFS_recursive(node):\n",
    "    node.visited = True\n",
    "    print(node.value)\n",
    "    for n in node.adjacencyList:\n",
    "        if n.visited == False:\n",
    "            DFS_recursive(n)            "
   ]
  },
  {
   "cell_type": "code",
   "execution_count": 13,
   "metadata": {},
   "outputs": [
    {
     "name": "stdout",
     "output_type": "stream",
     "text": [
      "F\n",
      "B\n",
      "A\n",
      "C\n",
      "D\n",
      "E\n",
      "H\n",
      "I\n",
      "G\n"
     ]
    }
   ],
   "source": [
    "DFS_recursive(node_F)"
   ]
  },
  {
   "cell_type": "markdown",
   "metadata": {},
   "source": [
    "#### Iterative DFS"
   ]
  },
  {
   "cell_type": "code",
   "execution_count": 14,
   "metadata": {},
   "outputs": [],
   "source": [
    "def DFS_iterative(node):\n",
    "    stack = list()\n",
    "    stack.append(node)\n",
    "    node.visited = True\n",
    "\n",
    "    while len(stack) > 0:\n",
    "        s = stack.pop()\n",
    "        print(s.value)\n",
    "        for n in s.adjacencyList:\n",
    "            if n.visited == False:\n",
    "                stack.append(n)\n",
    "                n.visited = True"
   ]
  },
  {
   "cell_type": "markdown",
   "metadata": {},
   "source": [
    "### Nodes & Adjacency list"
   ]
  },
  {
   "cell_type": "code",
   "execution_count": 15,
   "metadata": {},
   "outputs": [],
   "source": [
    "node_A = Node(\"A\")\n",
    "node_B = Node(\"B\")\n",
    "node_C = Node(\"C\")\n",
    "node_D = Node(\"D\")\n",
    "node_E = Node(\"E\")\n",
    "node_F = Node(\"F\")\n",
    "node_G = Node(\"G\")\n",
    "node_H = Node(\"H\")\n",
    "node_I = Node(\"I\")\n",
    "\n",
    "node_A.adjacencyList = [node_B, node_C]\n",
    "node_B.adjacencyList = [node_A, node_D, node_F]\n",
    "node_C.adjacencyList = [node_A, node_D]\n",
    "node_D.adjacencyList = [node_B, node_C, node_E]\n",
    "node_E.adjacencyList = [node_D, node_H]\n",
    "node_F.adjacencyList = [node_B, node_G]\n",
    "node_G.adjacencyList = [node_F, node_I]\n",
    "node_H.adjacencyList = [node_E, node_I]\n",
    "node_I.adjacencyList = [node_G, node_H]"
   ]
  },
  {
   "cell_type": "code",
   "execution_count": 16,
   "metadata": {},
   "outputs": [
    {
     "name": "stdout",
     "output_type": "stream",
     "text": [
      "F\n",
      "G\n",
      "I\n",
      "H\n",
      "E\n",
      "D\n",
      "C\n",
      "A\n",
      "B\n"
     ]
    }
   ],
   "source": [
    "DFS_iterative(node_F)"
   ]
  },
  {
   "cell_type": "markdown",
   "metadata": {},
   "source": [
    "### Time Complexity"
   ]
  },
  {
   "cell_type": "markdown",
   "metadata": {},
   "source": [
    "DFS Time Complexity: O(V + E)"
   ]
  },
  {
   "cell_type": "markdown",
   "metadata": {},
   "source": [
    "DFS is great in determining whether a path exists between two nodes, and doesn’t necessarily require a lot memory, since the entire graph doesn’t need to be initialized or instantiated in order to traverse through it. However, DFS isn’t helpful in finding a shortest path between two nodes"
   ]
  }
 ],
 "metadata": {
  "kernelspec": {
   "display_name": "Python 3",
   "language": "python",
   "name": "python3"
  },
  "language_info": {
   "codemirror_mode": {
    "name": "ipython",
    "version": 3
   },
   "file_extension": ".py",
   "mimetype": "text/x-python",
   "name": "python",
   "nbconvert_exporter": "python",
   "pygments_lexer": "ipython3",
   "version": "3.7.0"
  }
 },
 "nbformat": 4,
 "nbformat_minor": 2
}
