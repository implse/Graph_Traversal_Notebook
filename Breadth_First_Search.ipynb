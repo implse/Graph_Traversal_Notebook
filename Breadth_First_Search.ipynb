{
 "cells": [
  {
   "cell_type": "markdown",
   "metadata": {},
   "source": [
    "# Graph Traversal"
   ]
  },
  {
   "cell_type": "markdown",
   "metadata": {},
   "source": [
    "The process of searching through or traversing a graph data structure involves visiting each vertex / node in a graph. The order in which vertices are visited is how we can classify graph traversals methods."
   ]
  },
  {
   "cell_type": "markdown",
   "metadata": {},
   "source": [
    "![title](image/Graph_480_360.png)"
   ]
  },
  {
   "cell_type": "markdown",
   "metadata": {},
   "source": [
    "## Breadth First Search"
   ]
  },
  {
   "cell_type": "markdown",
   "metadata": {},
   "source": [
    "Traverse broad into a graph by visiting sibling / neighbor nodes before children nodes.\n",
    "\n",
    "- Uses a queue"
   ]
  },
  {
   "cell_type": "markdown",
   "metadata": {},
   "source": [
    "The power of using breadth-first search to traverse through a graph is that it can easily tell us the shortest way to get from one node to another."
   ]
  },
  {
   "cell_type": "markdown",
   "metadata": {},
   "source": [
    "### Implementation"
   ]
  },
  {
   "cell_type": "markdown",
   "metadata": {},
   "source": [
    "#### Node Class"
   ]
  },
  {
   "cell_type": "code",
   "execution_count": 24,
   "metadata": {},
   "outputs": [],
   "source": [
    "class Node(object):\n",
    "    def __init__(self, value):\n",
    "        self.value = value\n",
    "        self.adjacencyList = list() \n",
    "        self.visited = False"
   ]
  },
  {
   "cell_type": "markdown",
   "metadata": {},
   "source": [
    "### Nodes & Adjacency list"
   ]
  },
  {
   "cell_type": "code",
   "execution_count": 25,
   "metadata": {},
   "outputs": [],
   "source": [
    "node_A = Node(\"A\")\n",
    "node_B = Node(\"B\")\n",
    "node_C = Node(\"C\")\n",
    "node_D = Node(\"D\")\n",
    "node_E = Node(\"E\")\n",
    "node_F = Node(\"F\")\n",
    "node_G = Node(\"G\")\n",
    "node_H = Node(\"H\")\n",
    "node_I = Node(\"I\")\n",
    "\n",
    "node_A.adjacencyList = [node_B, node_C]\n",
    "node_B.adjacencyList = [node_A, node_D, node_F]\n",
    "node_C.adjacencyList = [node_A, node_D]\n",
    "node_D.adjacencyList = [node_B, node_C, node_E]\n",
    "node_E.adjacencyList = [node_D, node_H]\n",
    "node_F.adjacencyList = [node_B, node_G]\n",
    "node_G.adjacencyList = [node_F, node_I]\n",
    "node_H.adjacencyList = [node_E, node_I]\n",
    "node_I.adjacencyList = [node_G, node_H]"
   ]
  },
  {
   "cell_type": "markdown",
   "metadata": {},
   "source": [
    "### BFS"
   ]
  },
  {
   "cell_type": "code",
   "execution_count": 26,
   "metadata": {},
   "outputs": [],
   "source": [
    "def BreathFirstSearch(node):\n",
    "    queue = list()\n",
    "    queue.append(node)\n",
    "    node.visited = True\n",
    "    while len(queue) > 0:\n",
    "        n = queue.pop(0)\n",
    "        print(n.value)\n",
    "        for m in n.adjacencyList:\n",
    "            if m.visited == False:\n",
    "                queue.append(m)\n",
    "                m.visited = True\n",
    "            "
   ]
  },
  {
   "cell_type": "code",
   "execution_count": 27,
   "metadata": {},
   "outputs": [
    {
     "name": "stdout",
     "output_type": "stream",
     "text": [
      "F\n",
      "B\n",
      "G\n",
      "A\n",
      "D\n",
      "I\n",
      "C\n",
      "E\n",
      "H\n"
     ]
    }
   ],
   "source": [
    "BreathFirstSearch(node_F)"
   ]
  },
  {
   "cell_type": "markdown",
   "metadata": {},
   "source": [
    "### Time Complexity"
   ]
  },
  {
   "cell_type": "markdown",
   "metadata": {},
   "source": [
    "BFS Time Complexity: O(V + E)"
   ]
  },
  {
   "cell_type": "markdown",
   "metadata": {},
   "source": [
    "If we must visit every node once, and check every edge in its adjacency list, the runtime complexity for both a directed and undirected graph is the sum of the vertices and their edges as represented by the graph in its adjacency list representation."
   ]
  }
 ],
 "metadata": {
  "kernelspec": {
   "display_name": "Python 3",
   "language": "python",
   "name": "python3"
  },
  "language_info": {
   "codemirror_mode": {
    "name": "ipython",
    "version": 3
   },
   "file_extension": ".py",
   "mimetype": "text/x-python",
   "name": "python",
   "nbconvert_exporter": "python",
   "pygments_lexer": "ipython3",
   "version": "3.7.0"
  }
 },
 "nbformat": 4,
 "nbformat_minor": 2
}
