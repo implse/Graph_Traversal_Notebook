{
 "cells": [
  {
   "cell_type": "markdown",
   "metadata": {},
   "source": [
    "# Graph Traversal"
   ]
  },
  {
   "cell_type": "markdown",
   "metadata": {},
   "source": [
    "The process of searching through or traversing a graph data structure involves visiting each vertex / node in a graph. The order in which vertices are visited is how we can classify graph traversals methods."
   ]
  },
  {
   "cell_type": "markdown",
   "metadata": {},
   "source": [
    "![title](images/Graph_480_360.png)"
   ]
  },
  {
   "cell_type": "markdown",
   "metadata": {},
   "source": [
    "## Breadth First Search"
   ]
  },
  {
   "cell_type": "markdown",
   "metadata": {},
   "source": [
    "Traverse broad into a graph by visiting sibling / neighbor nodes before children nodes.\n",
    "\n",
    "- Uses a queue"
   ]
  },
  {
   "cell_type": "markdown",
   "metadata": {},
   "source": [
    "The power of using breadth-first search to traverse through a graph is that it can easily tell us the shortest way to get from one node to another."
   ]
  },
  {
   "cell_type": "markdown",
   "metadata": {},
   "source": [
    "#### Vertex Class"
   ]
  },
  {
   "cell_type": "code",
   "execution_count": 13,
   "metadata": {},
   "outputs": [],
   "source": [
    "class Vertex(object):\n",
    "    def __init__(self, value):\n",
    "        self.value = value\n",
    "        self.adjacencyList = list() \n",
    "        self.visited = False"
   ]
  },
  {
   "cell_type": "markdown",
   "metadata": {},
   "source": [
    "#### Nodes & Adjacency list"
   ]
  },
  {
   "cell_type": "code",
   "execution_count": 14,
   "metadata": {},
   "outputs": [],
   "source": [
    "vertex_A = Vertex(\"A\")\n",
    "vertex_B = Vertex(\"B\")\n",
    "vertex_C = Vertex(\"C\")\n",
    "vertex_D = Vertex(\"D\")\n",
    "vertex_E = Vertex(\"E\")\n",
    "vertex_F = Vertex(\"F\")\n",
    "vertex_G = Vertex(\"G\")\n",
    "vertex_H = Vertex(\"H\")\n",
    "vertex_I = Vertex(\"I\")\n",
    "\n",
    "vertex_A.adjacencyList = [vertex_B, vertex_C]\n",
    "vertex_B.adjacencyList = [vertex_A, vertex_D, vertex_F]\n",
    "vertex_C.adjacencyList = [vertex_A, vertex_D]\n",
    "vertex_D.adjacencyList = [vertex_B, vertex_C, vertex_E]\n",
    "vertex_E.adjacencyList = [vertex_D, vertex_H]\n",
    "vertex_F.adjacencyList = [vertex_B, vertex_G]\n",
    "vertex_G.adjacencyList = [vertex_F, vertex_I]\n",
    "vertex_H.adjacencyList = [vertex_E, vertex_I]\n",
    "vertex_I.adjacencyList = [vertex_G, vertex_H]"
   ]
  },
  {
   "cell_type": "markdown",
   "metadata": {},
   "source": [
    "### Breath First Search"
   ]
  },
  {
   "cell_type": "code",
   "execution_count": 15,
   "metadata": {},
   "outputs": [],
   "source": [
    "def BreathFirstSearch(vertex):\n",
    "    queue = list()\n",
    "    queue.append(vertex)\n",
    "    vertex.visited = True\n",
    "    while len(queue) > 0:\n",
    "        v = queue.pop(0)\n",
    "        print(v.value)\n",
    "        for m in v.adjacencyList:\n",
    "            if m.visited == False:\n",
    "                queue.append(m)\n",
    "                m.visited = True\n",
    "            "
   ]
  },
  {
   "cell_type": "code",
   "execution_count": 16,
   "metadata": {},
   "outputs": [
    {
     "name": "stdout",
     "output_type": "stream",
     "text": [
      "F\n",
      "B\n",
      "G\n",
      "A\n",
      "D\n",
      "I\n",
      "C\n",
      "E\n",
      "H\n"
     ]
    }
   ],
   "source": [
    "BreathFirstSearch(vertex_F)"
   ]
  },
  {
   "cell_type": "markdown",
   "metadata": {},
   "source": [
    "### Time Complexity"
   ]
  },
  {
   "cell_type": "markdown",
   "metadata": {},
   "source": [
    "BFS Time Complexity: `O(V + E)`"
   ]
  },
  {
   "cell_type": "markdown",
   "metadata": {},
   "source": [
    "If we must visit every vertex once, and check every edge in its adjacency list, the runtime complexity for both a directed and undirected graph is the sum of the vertices and their edges as represented by the graph in its adjacency list representation."
   ]
  }
 ],
 "metadata": {
  "kernelspec": {
   "display_name": "Python 3",
   "language": "python",
   "name": "python3"
  },
  "language_info": {
   "codemirror_mode": {
    "name": "ipython",
    "version": 3
   },
   "file_extension": ".py",
   "mimetype": "text/x-python",
   "name": "python",
   "nbconvert_exporter": "python",
   "pygments_lexer": "ipython3",
   "version": "3.7.3"
  }
 },
 "nbformat": 4,
 "nbformat_minor": 2
}
