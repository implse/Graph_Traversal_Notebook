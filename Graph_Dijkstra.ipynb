{
 "cells": [
  {
   "cell_type": "markdown",
   "metadata": {},
   "source": [
    "# Dijkstra's algorithm"
   ]
  },
  {
   "cell_type": "markdown",
   "metadata": {},
   "source": [
    "Dijkstra's algorithm is an algorithm for finding the shortest paths between vertex in a graph, which may represent, for example, road networks. It was conceived by computer scientist Edsger W. Dijkstra in 1956 and published three years later.\n",
    "\n",
    "wikipedia"
   ]
  },
  {
   "cell_type": "markdown",
   "metadata": {},
   "source": [
    "![title](images/Weighted_Graph_480_360.png)"
   ]
  },
  {
   "cell_type": "markdown",
   "metadata": {},
   "source": [
    "Dijkstra can only handle positive edge weights.\n",
    "\n",
    "This is asymptotically the fastest known signle-source shortest-path algorithm for arbitrary directed graphs with unbounded non-negative weights.\n"
   ]
  },
  {
   "cell_type": "markdown",
   "metadata": {},
   "source": [
    "### Vertex Class"
   ]
  },
  {
   "cell_type": "code",
   "execution_count": 75,
   "metadata": {},
   "outputs": [],
   "source": [
    "import heapq\n",
    "\n",
    "class Vertex(object):\n",
    "    def __init__(self, name):\n",
    "        self.name = name\n",
    "        self.visited = False\n",
    "        self.predecessor = None\n",
    "        self.adjacencyList = list()\n",
    "        self.minDistance = float(\"inf\")\n",
    "        \n",
    "    def __cmp__(self, otherNode):\n",
    "        return self.cmp(self.minDistance, otherNode.minDistance)\n",
    "\n",
    "    def __lt__(self, other):\n",
    "        selfPriority = self.minDistance\n",
    "        otherPriority = other.minDistance\n",
    "        return selfPriority < otherPriority"
   ]
  },
  {
   "cell_type": "markdown",
   "metadata": {},
   "source": [
    "### Edge Class"
   ]
  },
  {
   "cell_type": "code",
   "execution_count": 76,
   "metadata": {},
   "outputs": [],
   "source": [
    "class Edge(object):\n",
    "    def __init__(self, weight, startVertex, targetVertex):\n",
    "        self.weight = weight\n",
    "        self.startVertex = startVertex\n",
    "        self.targetVertex = targetVertex"
   ]
  },
  {
   "cell_type": "markdown",
   "metadata": {},
   "source": [
    "### Dijkstra Algorithm"
   ]
  },
  {
   "cell_type": "code",
   "execution_count": 77,
   "metadata": {},
   "outputs": [],
   "source": [
    "class Dijkstra(object):\n",
    "    def calculateShortestPath(self, vertexList, startVertex):\n",
    "        q = list()\n",
    "        heapq.heapify(q)\n",
    "        startVertex.minDistance = 0\n",
    "        heapq.heappush(q, startVertex)\n",
    "\n",
    "        while len(q) > 0:\n",
    "            actualVertex = heapq.heappop(q)\n",
    "            for edge in actualVertex.adjacencyList:\n",
    "                u = edge.startVertex\n",
    "                v = edge.targetVertex\n",
    "                newDistance = u.minDistance + edge.weight\n",
    "\n",
    "                if newDistance < v.minDistance:\n",
    "                    v.predecessor = u\n",
    "                    v.minDistance = newDistance\n",
    "                    heapq.heappush(q, v)\n",
    "\n",
    "    def getShortestPath(self, startVertex, targetVertex):\n",
    "        print(\"Shortest distance between %s and %s is : %d\" %(startVertex.name, targetVertex.name, targetVertex.minDistance))\n",
    "        \n",
    "        Path_from_start_to_end = list() \n",
    "        Vertex = targetVertex\n",
    "        while Vertex is not None:\n",
    "            Path_from_start_to_end.append(Vertex.name)\n",
    "            Vertex = Vertex.predecessor\n",
    "        print(\"The path is: \" + \" \".join(Path_from_start_to_end[::-1]))"
   ]
  },
  {
   "cell_type": "markdown",
   "metadata": {},
   "source": [
    "### Vertex"
   ]
  },
  {
   "cell_type": "code",
   "execution_count": 78,
   "metadata": {},
   "outputs": [],
   "source": [
    "vertex_A = Vertex(\"A\")\n",
    "vertex_B = Vertex(\"B\")\n",
    "vertex_C = Vertex(\"C\")\n",
    "vertex_D = Vertex(\"D\")\n",
    "vertex_E = Vertex(\"E\")\n",
    "vertex_F = Vertex(\"F\")\n",
    "vertex_G = Vertex(\"G\")\n",
    "vertex_H = Vertex(\"H\")"
   ]
  },
  {
   "cell_type": "markdown",
   "metadata": {},
   "source": [
    "### Edges"
   ]
  },
  {
   "cell_type": "code",
   "execution_count": 79,
   "metadata": {},
   "outputs": [],
   "source": [
    "edge1 = Edge(5, vertex_A, vertex_B)\n",
    "edge2 = Edge(8, vertex_A, vertex_H)\n",
    "edge3 = Edge(9, vertex_A, vertex_E)\n",
    "edge4 = Edge(15, vertex_B, vertex_D)\n",
    "edge5 = Edge(12, vertex_B, vertex_C)\n",
    "edge6 = Edge(4, vertex_B, vertex_H)\n",
    "edge7 = Edge(7, vertex_H, vertex_C)\n",
    "edge8 = Edge(6, vertex_H, vertex_F)\n",
    "edge9 = Edge(5, vertex_E, vertex_H)\n",
    "edge10 = Edge(20, vertex_E, vertex_G)\n",
    "edge11 = Edge(1, vertex_F, vertex_C)\n",
    "edge12 = Edge(13, vertex_F, vertex_G)\n",
    "edge13 = Edge(3, vertex_C, vertex_D)\n",
    "edge14 = Edge(11, vertex_C, vertex_G)\n",
    "edge15 = Edge(9, vertex_D, vertex_G)"
   ]
  },
  {
   "cell_type": "markdown",
   "metadata": {},
   "source": [
    "### Adjacency List"
   ]
  },
  {
   "cell_type": "code",
   "execution_count": 80,
   "metadata": {},
   "outputs": [],
   "source": [
    "vertex_A.adjacencyList.append(edge1)\n",
    "vertex_A.adjacencyList.append(edge2)\n",
    "vertex_A.adjacencyList.append(edge3)\n",
    "vertex_B.adjacencyList.append(edge4)\n",
    "vertex_B.adjacencyList.append(edge5)\n",
    "vertex_B.adjacencyList.append(edge6)\n",
    "vertex_H.adjacencyList.append(edge7)\n",
    "vertex_H.adjacencyList.append(edge8)\n",
    "vertex_E.adjacencyList.append(edge9)\n",
    "vertex_E.adjacencyList.append(edge10)\n",
    "vertex_F.adjacencyList.append(edge11)\n",
    "vertex_F.adjacencyList.append(edge12)\n",
    "vertex_C.adjacencyList.append(edge13)\n",
    "vertex_C.adjacencyList.append(edge14)\n",
    "vertex_D.adjacencyList.append(edge15)\n",
    "\n",
    "vertexList = (vertex_A, vertex_B, vertex_C, vertex_D, vertex_E, vertex_F, vertex_G, vertex_H)"
   ]
  },
  {
   "cell_type": "code",
   "execution_count": 81,
   "metadata": {},
   "outputs": [
    {
     "name": "stdout",
     "output_type": "stream",
     "text": [
      "Shortest distance between A and G is : 26\n",
      "The path is: A H C G\n"
     ]
    }
   ],
   "source": [
    "dj = Dijkstra()\n",
    "dj.calculateShortestPath(vertexList, vertex_A)\n",
    "dj.getShortestPath(vertex_A, vertex_G)"
   ]
  },
  {
   "cell_type": "markdown",
   "metadata": {},
   "source": [
    "![title](images/Color_Path_Weighted_Graph_480_360.png)"
   ]
  },
  {
   "cell_type": "markdown",
   "metadata": {},
   "source": [
    "### Time Complexity"
   ]
  },
  {
   "cell_type": "markdown",
   "metadata": {},
   "source": [
    "Dijkstra Time Complexity: `O(V log V + E)`"
   ]
  }
 ],
 "metadata": {
  "kernelspec": {
   "display_name": "Python 3",
   "language": "python",
   "name": "python3"
  },
  "language_info": {
   "codemirror_mode": {
    "name": "ipython",
    "version": 3
   },
   "file_extension": ".py",
   "mimetype": "text/x-python",
   "name": "python",
   "nbconvert_exporter": "python",
   "pygments_lexer": "ipython3",
   "version": "3.7.3"
  }
 },
 "nbformat": 4,
 "nbformat_minor": 2
}
